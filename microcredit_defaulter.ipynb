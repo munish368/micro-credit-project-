{
 "cells": [
  {
   "cell_type": "code",
   "execution_count": null,
   "id": "a1a52d62",
   "metadata": {},
   "outputs": [],
   "source": [
    "import pandas as pd "
   ]
  },
  {
   "cell_type": "code",
   "execution_count": null,
   "id": "3c688a95",
   "metadata": {},
   "outputs": [],
   "source": [
    "df = pd.read_csv(\"Data file.csv\")"
   ]
  },
  {
   "cell_type": "code",
   "execution_count": null,
   "id": "97030ef1",
   "metadata": {},
   "outputs": [],
   "source": [
    "df"
   ]
  },
  {
   "cell_type": "markdown",
   "id": "8a477eb8",
   "metadata": {},
   "source": [
    "there are 37 columns and 20593 rows in the data"
   ]
  },
  {
   "cell_type": "code",
   "execution_count": null,
   "id": "88365145",
   "metadata": {},
   "outputs": [],
   "source": [
    "df.columns"
   ]
  },
  {
   "cell_type": "code",
   "execution_count": null,
   "id": "c78d84e0",
   "metadata": {},
   "outputs": [],
   "source": [
    "df.info()"
   ]
  },
  {
   "cell_type": "code",
   "execution_count": null,
   "id": "4297de3f",
   "metadata": {
    "scrolled": true
   },
   "outputs": [],
   "source": [
    "df.isnull().sum()"
   ]
  },
  {
   "cell_type": "code",
   "execution_count": null,
   "id": "b613d6db",
   "metadata": {},
   "outputs": [],
   "source": [
    "df.head()"
   ]
  },
  {
   "cell_type": "markdown",
   "id": "5d23dd1c",
   "metadata": {},
   "source": [
    "I can drop the Unnamed column because it indicate the serial number "
   ]
  },
  {
   "cell_type": "code",
   "execution_count": null,
   "id": "eb53b811",
   "metadata": {},
   "outputs": [],
   "source": [
    "df.drop('Unnamed: 0' ,axis = 1,inplace=True)"
   ]
  },
  {
   "cell_type": "code",
   "execution_count": null,
   "id": "80301092",
   "metadata": {},
   "outputs": [],
   "source": [
    "df.head()"
   ]
  },
  {
   "cell_type": "code",
   "execution_count": null,
   "id": "ae59d719",
   "metadata": {},
   "outputs": [],
   "source": [
    "df.info()"
   ]
  },
  {
   "cell_type": "markdown",
   "id": "4ddf03a9",
   "metadata": {},
   "source": [
    "mssidn, pcircle, pdate are the objective type of data "
   ]
  },
  {
   "cell_type": "code",
   "execution_count": null,
   "id": "a5e512bc",
   "metadata": {},
   "outputs": [],
   "source": [
    "df[\"pcircle\"].unique()"
   ]
  },
  {
   "cell_type": "markdown",
   "id": "4cb7db1a",
   "metadata": {},
   "source": [
    "pcircle has the only one unique value , it does not give more information so I can also drop this "
   ]
  },
  {
   "cell_type": "code",
   "execution_count": null,
   "id": "03c5b230",
   "metadata": {},
   "outputs": [],
   "source": [
    "df.drop('pcircle',axis = 1,inplace = True)"
   ]
  },
  {
   "cell_type": "code",
   "execution_count": null,
   "id": "df1bfb99",
   "metadata": {},
   "outputs": [],
   "source": [
    "df"
   ]
  },
  {
   "cell_type": "code",
   "execution_count": null,
   "id": "fa376c9f",
   "metadata": {},
   "outputs": [],
   "source": [
    "df.shape"
   ]
  },
  {
   "cell_type": "code",
   "execution_count": null,
   "id": "3963bb3a",
   "metadata": {},
   "outputs": [],
   "source": [
    "df[\"msisdn\"]"
   ]
  },
  {
   "cell_type": "markdown",
   "id": "d610630f",
   "metadata": {},
   "source": [
    "msisdn is a moblie number of user so it does not affect our prediction I can drop this column "
   ]
  },
  {
   "cell_type": "code",
   "execution_count": null,
   "id": "6e2a6d2b",
   "metadata": {},
   "outputs": [],
   "source": [
    "df.drop('msisdn',axis = 1,inplace= True)"
   ]
  },
  {
   "cell_type": "code",
   "execution_count": null,
   "id": "048e5515",
   "metadata": {},
   "outputs": [],
   "source": [
    "df"
   ]
  },
  {
   "cell_type": "code",
   "execution_count": null,
   "id": "1e688d58",
   "metadata": {},
   "outputs": [],
   "source": [
    "df.corr()"
   ]
  },
  {
   "cell_type": "code",
   "execution_count": null,
   "id": "95b1fe0f",
   "metadata": {},
   "outputs": [],
   "source": [
    "import matplotlib.pyplot as plt\n",
    "import seaborn as sns \n",
    "import numpy as np \n",
    "import warnings\n",
    "warnings.filterwarnings('ignore')"
   ]
  },
  {
   "cell_type": "code",
   "execution_count": null,
   "id": "0da03ee2",
   "metadata": {},
   "outputs": [],
   "source": [
    "plt.figure(figsize =(30,20))\n",
    "sns.heatmap(df.corr(),annot = True)"
   ]
  },
  {
   "cell_type": "markdown",
   "id": "0fbf92c5",
   "metadata": {},
   "source": [
    "1.daily_decr30 and daily_decr90 are highly correlated with each other "
   ]
  },
  {
   "cell_type": "markdown",
   "id": "403d4345",
   "metadata": {},
   "source": [
    "2.rental30 and rental90 are highly correlated with each other"
   ]
  },
  {
   "cell_type": "markdown",
   "id": "f350e4d1",
   "metadata": {},
   "source": [
    "3.cnt_loans30 and amnt_loans30 are highly correlated with each other"
   ]
  },
  {
   "cell_type": "markdown",
   "id": "920f9115",
   "metadata": {},
   "source": [
    "4.amnt_loans30 are also correlated with amnt_loans90"
   ]
  },
  {
   "cell_type": "markdown",
   "id": "1bc4a124",
   "metadata": {},
   "source": [
    "5.medianamnt_loans30 and medianamnt_loans90 are highly correlated with each other"
   ]
  },
  {
   "cell_type": "code",
   "execution_count": null,
   "id": "82574530",
   "metadata": {},
   "outputs": [],
   "source": [
    "df.drop(['daily_decr30','rental30','amnt_loans30','medianamnt_loans90'],axis = 1, inplace = True)"
   ]
  },
  {
   "cell_type": "code",
   "execution_count": null,
   "id": "04384ec6",
   "metadata": {},
   "outputs": [],
   "source": [
    "df.head()"
   ]
  },
  {
   "cell_type": "code",
   "execution_count": null,
   "id": "3cbda736",
   "metadata": {},
   "outputs": [],
   "source": [
    "df.shape"
   ]
  },
  {
   "cell_type": "code",
   "execution_count": null,
   "id": "9d89a67a",
   "metadata": {},
   "outputs": [],
   "source": [
    "df[\"payback30\"].nunique()"
   ]
  },
  {
   "cell_type": "code",
   "execution_count": null,
   "id": "9e0db68a",
   "metadata": {},
   "outputs": [],
   "source": [
    "df['p_day'] = pd.to_datetime(df['pdate'],format='%Y/%m/%d').dt.day"
   ]
  },
  {
   "cell_type": "code",
   "execution_count": null,
   "id": "62f3fe18",
   "metadata": {},
   "outputs": [],
   "source": [
    "df.head()"
   ]
  },
  {
   "cell_type": "code",
   "execution_count": null,
   "id": "d2ebe005",
   "metadata": {},
   "outputs": [],
   "source": [
    "df['p_month'] = pd.to_datetime(df[\"pdate\"],format = '%Y/%m/%d').dt.month"
   ]
  },
  {
   "cell_type": "code",
   "execution_count": null,
   "id": "e2082709",
   "metadata": {},
   "outputs": [],
   "source": [
    "df.head()"
   ]
  },
  {
   "cell_type": "code",
   "execution_count": null,
   "id": "2d688639",
   "metadata": {},
   "outputs": [],
   "source": [
    "df['p_year']= pd.to_datetime(df['pdate'],format ='%Y/%m/%d').dt.year"
   ]
  },
  {
   "cell_type": "code",
   "execution_count": null,
   "id": "1ae4866e",
   "metadata": {},
   "outputs": [],
   "source": [
    "df.head()"
   ]
  },
  {
   "cell_type": "code",
   "execution_count": null,
   "id": "87bdfbec",
   "metadata": {},
   "outputs": [],
   "source": [
    "df.drop('pdate',axis = 1,inplace=True)"
   ]
  },
  {
   "cell_type": "code",
   "execution_count": null,
   "id": "3a67430a",
   "metadata": {},
   "outputs": [],
   "source": [
    "df.head()"
   ]
  },
  {
   "cell_type": "code",
   "execution_count": null,
   "id": "1ef5aba0",
   "metadata": {},
   "outputs": [],
   "source": [
    "df.info()"
   ]
  },
  {
   "cell_type": "code",
   "execution_count": null,
   "id": "46510413",
   "metadata": {},
   "outputs": [],
   "source": [
    "df"
   ]
  },
  {
   "cell_type": "code",
   "execution_count": null,
   "id": "f7271c3a",
   "metadata": {},
   "outputs": [],
   "source": [
    "sns.countplot(df['label'])"
   ]
  },
  {
   "cell_type": "markdown",
   "id": "14c6f90c",
   "metadata": {},
   "source": [
    "classes are imbalance "
   ]
  },
  {
   "cell_type": "code",
   "execution_count": null,
   "id": "d23bad95",
   "metadata": {},
   "outputs": [],
   "source": [
    "sns.countplot(df['p_month'])"
   ]
  },
  {
   "cell_type": "code",
   "execution_count": null,
   "id": "feaa3a45",
   "metadata": {},
   "outputs": [],
   "source": [
    "df['p_year']"
   ]
  },
  {
   "cell_type": "code",
   "execution_count": null,
   "id": "3465173d",
   "metadata": {},
   "outputs": [],
   "source": [
    "df['p_year'].unique()"
   ]
  },
  {
   "cell_type": "code",
   "execution_count": null,
   "id": "3fc92b9e",
   "metadata": {},
   "outputs": [],
   "source": [
    "df[\"maxamnt_loans30\"].unique()"
   ]
  },
  {
   "cell_type": "code",
   "execution_count": null,
   "id": "21be7b92",
   "metadata": {},
   "outputs": [],
   "source": [
    "df['maxamnt_loans30'].nunique()"
   ]
  },
  {
   "cell_type": "code",
   "execution_count": null,
   "id": "a3b3f209",
   "metadata": {},
   "outputs": [],
   "source": [
    "df"
   ]
  },
  {
   "cell_type": "code",
   "execution_count": null,
   "id": "c5544e54",
   "metadata": {},
   "outputs": [],
   "source": [
    "sns.scatterplot(y='label',x='aon',data=df)"
   ]
  },
  {
   "cell_type": "code",
   "execution_count": null,
   "id": "2f0f73a8",
   "metadata": {},
   "outputs": [],
   "source": [
    "sns.scatterplot(x='daily_decr90',y='label',data=df)"
   ]
  },
  {
   "cell_type": "code",
   "execution_count": null,
   "id": "9250b8a6",
   "metadata": {},
   "outputs": [],
   "source": [
    "sns.scatterplot(x='rental90',y='label',data=df)"
   ]
  },
  {
   "cell_type": "code",
   "execution_count": null,
   "id": "857a00d2",
   "metadata": {},
   "outputs": [],
   "source": [
    "sns.scatterplot(x='last_rech_date_ma',y='label',data=df)"
   ]
  },
  {
   "cell_type": "code",
   "execution_count": null,
   "id": "72f8ea8c",
   "metadata": {},
   "outputs": [],
   "source": [
    "sns.scatterplot(x='cnt_ma_rech30',y='label',data=df)"
   ]
  },
  {
   "cell_type": "code",
   "execution_count": null,
   "id": "a12583c8",
   "metadata": {},
   "outputs": [],
   "source": [
    "sns.scatterplot(x='fr_ma_rech30',y='label',data=df)"
   ]
  },
  {
   "cell_type": "code",
   "execution_count": null,
   "id": "6d39b75c",
   "metadata": {},
   "outputs": [],
   "source": [
    "sns.scatterplot(x='sumamnt_ma_rech30',y='label',data=df)"
   ]
  },
  {
   "cell_type": "code",
   "execution_count": null,
   "id": "dc0072cc",
   "metadata": {},
   "outputs": [],
   "source": [
    "sns.scatterplot(x='medianamnt_ma_rech30',y='label',data=df)"
   ]
  },
  {
   "cell_type": "code",
   "execution_count": null,
   "id": "abb3f041",
   "metadata": {},
   "outputs": [],
   "source": [
    "sns.scatterplot(x='cnt_ma_rech90',y='label',data=df)"
   ]
  },
  {
   "cell_type": "code",
   "execution_count": null,
   "id": "4ee1f301",
   "metadata": {},
   "outputs": [],
   "source": [
    "sns.scatterplot(x='fr_ma_rech90',y='label',data=df)"
   ]
  },
  {
   "cell_type": "code",
   "execution_count": null,
   "id": "84417e5f",
   "metadata": {},
   "outputs": [],
   "source": [
    "sns.scatterplot(x='sumamnt_ma_rech90',y='label',data=df)"
   ]
  },
  {
   "cell_type": "code",
   "execution_count": null,
   "id": "2d4ad4fa",
   "metadata": {},
   "outputs": [],
   "source": [
    "sns.scatterplot(x='medianamnt_ma_rech90',y='label',data=df)"
   ]
  },
  {
   "cell_type": "code",
   "execution_count": null,
   "id": "ed9e2cbc",
   "metadata": {},
   "outputs": [],
   "source": [
    "sns.scatterplot(x='medianmarechprebal90',y='label',data=df)"
   ]
  },
  {
   "cell_type": "code",
   "execution_count": null,
   "id": "eaad0eb7",
   "metadata": {},
   "outputs": [],
   "source": [
    "sns.scatterplot(x='cnt_da_rech30',y='label',data=df)"
   ]
  },
  {
   "cell_type": "code",
   "execution_count": null,
   "id": "2d92abaf",
   "metadata": {},
   "outputs": [],
   "source": [
    "sns.scatterplot(x='fr_da_rech30',y='label',data=df)"
   ]
  },
  {
   "cell_type": "code",
   "execution_count": null,
   "id": "74d286af",
   "metadata": {},
   "outputs": [],
   "source": [
    "sns.scatterplot(x='cnt_da_rech90',y='label',data=df)"
   ]
  },
  {
   "cell_type": "code",
   "execution_count": null,
   "id": "569e1a1c",
   "metadata": {},
   "outputs": [],
   "source": [
    "sns.scatterplot(x='fr_da_rech90',y='label',data=df)"
   ]
  },
  {
   "cell_type": "code",
   "execution_count": null,
   "id": "73b99537",
   "metadata": {},
   "outputs": [],
   "source": [
    "sns.scatterplot(x='cnt_loans30',y='label',data=df)"
   ]
  },
  {
   "cell_type": "code",
   "execution_count": null,
   "id": "8d731f84",
   "metadata": {},
   "outputs": [],
   "source": [
    "sns.scatterplot(x='maxamnt_loans30',y='label',data=df)"
   ]
  },
  {
   "cell_type": "code",
   "execution_count": null,
   "id": "d0eb385f",
   "metadata": {},
   "outputs": [],
   "source": [
    "sns.scatterplot(x='medianamnt_loans30',y='label',data=df)"
   ]
  },
  {
   "cell_type": "code",
   "execution_count": null,
   "id": "42e72c45",
   "metadata": {},
   "outputs": [],
   "source": [
    "sns.countplot(x='medianamnt_loans30',hue='label',data=df)"
   ]
  },
  {
   "cell_type": "code",
   "execution_count": null,
   "id": "20ceb195",
   "metadata": {},
   "outputs": [],
   "source": [
    "sns.scatterplot(x='cnt_loans90',y='label',data=df)"
   ]
  },
  {
   "cell_type": "code",
   "execution_count": null,
   "id": "27bfef64",
   "metadata": {},
   "outputs": [],
   "source": [
    "sns.scatterplot(x='amnt_loans90',y='label',data=df)"
   ]
  },
  {
   "cell_type": "code",
   "execution_count": null,
   "id": "3f6396a2",
   "metadata": {},
   "outputs": [],
   "source": [
    "sns.scatterplot(x='maxamnt_loans90',y='label',data=df)"
   ]
  },
  {
   "cell_type": "code",
   "execution_count": null,
   "id": "8c0b358c",
   "metadata": {},
   "outputs": [],
   "source": [
    "sns.countplot(x='maxamnt_loans90',hue='label',data=df)"
   ]
  },
  {
   "cell_type": "code",
   "execution_count": null,
   "id": "2c66a501",
   "metadata": {},
   "outputs": [],
   "source": [
    "sns.scatterplot(x='payback30',y='label',data=df)"
   ]
  },
  {
   "cell_type": "code",
   "execution_count": null,
   "id": "ab8fb1e9",
   "metadata": {},
   "outputs": [],
   "source": [
    "sns.scatterplot(x='payback90',y='label',data=df)"
   ]
  },
  {
   "cell_type": "code",
   "execution_count": null,
   "id": "7c413173",
   "metadata": {},
   "outputs": [],
   "source": [
    "sns.countplot(x='p_month',hue='label',data=df)"
   ]
  },
  {
   "cell_type": "code",
   "execution_count": null,
   "id": "7f02fa9c",
   "metadata": {},
   "outputs": [],
   "source": [
    "sns.scatterplot(x='label',y='p_month',data=df)"
   ]
  },
  {
   "cell_type": "code",
   "execution_count": null,
   "id": "7c890db6",
   "metadata": {},
   "outputs": [],
   "source": [
    "sns.scatterplot(x='aon',y='p_month',hue='label',data=df)"
   ]
  },
  {
   "cell_type": "code",
   "execution_count": null,
   "id": "5f437445",
   "metadata": {},
   "outputs": [],
   "source": [
    "sns.scatterplot(x='daily_decr90',y='p_month',hue='label',data=df)"
   ]
  },
  {
   "cell_type": "code",
   "execution_count": null,
   "id": "54b4cd94",
   "metadata": {},
   "outputs": [],
   "source": [
    "sns.scatterplot(x='rental90',y='p_month',hue='label',data=df)"
   ]
  },
  {
   "cell_type": "code",
   "execution_count": null,
   "id": "4d2e1f0b",
   "metadata": {},
   "outputs": [],
   "source": [
    "sns.scatterplot(x='last_rech_date_ma',y='p_month',hue='label',data=df)"
   ]
  },
  {
   "cell_type": "code",
   "execution_count": null,
   "id": "0419acf4",
   "metadata": {},
   "outputs": [],
   "source": [
    "sns.scatterplot(x='cnt_ma_rech30',y='p_month',hue='label',data=df)"
   ]
  },
  {
   "cell_type": "code",
   "execution_count": null,
   "id": "f8f63b70",
   "metadata": {},
   "outputs": [],
   "source": [
    "sns.scatterplot(x='fr_ma_rech30',y='p_month',hue='label',data=df)"
   ]
  },
  {
   "cell_type": "code",
   "execution_count": null,
   "id": "d706893e",
   "metadata": {},
   "outputs": [],
   "source": [
    "sns.scatterplot(x='sumamnt_ma_rech30',y='p_month',hue='label',data=df)"
   ]
  },
  {
   "cell_type": "code",
   "execution_count": null,
   "id": "b15ae2b2",
   "metadata": {},
   "outputs": [],
   "source": [
    "sns.scatterplot(x='medianamnt_ma_rech30',y='p_month',hue='label',data=df)"
   ]
  },
  {
   "cell_type": "code",
   "execution_count": null,
   "id": "d593e70d",
   "metadata": {},
   "outputs": [],
   "source": [
    "sns.scatterplot(x='medianmarechprebal30',y='p_month',hue='label',data=df)"
   ]
  },
  {
   "cell_type": "code",
   "execution_count": null,
   "id": "19712077",
   "metadata": {},
   "outputs": [],
   "source": [
    "sns.scatterplot(x='cnt_ma_rech90',y='p_month',hue='label',data=df)"
   ]
  },
  {
   "cell_type": "code",
   "execution_count": null,
   "id": "289b154a",
   "metadata": {},
   "outputs": [],
   "source": [
    "sns.scatterplot(x='fr_ma_rech90',y='p_month',hue='label',data=df)"
   ]
  },
  {
   "cell_type": "code",
   "execution_count": null,
   "id": "a1329fdd",
   "metadata": {},
   "outputs": [],
   "source": [
    "sns.scatterplot(x='sumamnt_ma_rech90',y='p_month',hue='label',data=df)"
   ]
  },
  {
   "cell_type": "code",
   "execution_count": null,
   "id": "b90dcb94",
   "metadata": {},
   "outputs": [],
   "source": [
    "sns.scatterplot(x='medianamnt_ma_rech90',y='p_month',hue='label',data=df)"
   ]
  },
  {
   "cell_type": "code",
   "execution_count": null,
   "id": "10e99699",
   "metadata": {},
   "outputs": [],
   "source": [
    "sns.scatterplot(x='medianmarechprebal90',y='p_month',hue='label',data=df)"
   ]
  },
  {
   "cell_type": "code",
   "execution_count": null,
   "id": "1b38dcea",
   "metadata": {},
   "outputs": [],
   "source": [
    "sns.scatterplot(x='cnt_da_rech30',y='p_month',hue='label',data=df)"
   ]
  },
  {
   "cell_type": "code",
   "execution_count": null,
   "id": "acb205d1",
   "metadata": {},
   "outputs": [],
   "source": [
    "sns.scatterplot(x='fr_da_rech30',y='p_month',hue='label',data=df)"
   ]
  },
  {
   "cell_type": "code",
   "execution_count": null,
   "id": "619df2f5",
   "metadata": {},
   "outputs": [],
   "source": [
    "sns.scatterplot(x='cnt_da_rech90',y='p_month',hue='label',data=df)"
   ]
  },
  {
   "cell_type": "code",
   "execution_count": null,
   "id": "639374bf",
   "metadata": {},
   "outputs": [],
   "source": [
    "sns.catplot(x='cnt_da_rech90',y='p_month',hue='label',data=df,kind='bar')"
   ]
  },
  {
   "cell_type": "code",
   "execution_count": null,
   "id": "49a9547e",
   "metadata": {},
   "outputs": [],
   "source": [
    "sns.scatterplot(x='fr_da_rech90',y='p_month',hue='label',data=df)"
   ]
  },
  {
   "cell_type": "code",
   "execution_count": null,
   "id": "f7692b78",
   "metadata": {},
   "outputs": [],
   "source": [
    "sns.scatterplot(x='cnt_loans30',y='p_month',hue='label',data=df)"
   ]
  },
  {
   "cell_type": "code",
   "execution_count": null,
   "id": "cd22ab34",
   "metadata": {},
   "outputs": [],
   "source": [
    "sns.scatterplot(x='maxamnt_loans30',y='p_month',hue='label',data=df)"
   ]
  },
  {
   "cell_type": "code",
   "execution_count": null,
   "id": "3255bede",
   "metadata": {},
   "outputs": [],
   "source": [
    "sns.scatterplot(x='medianamnt_loans30',y='p_month',hue='label',data=df)"
   ]
  },
  {
   "cell_type": "code",
   "execution_count": null,
   "id": "2d054b0e",
   "metadata": {},
   "outputs": [],
   "source": [
    "sns.scatterplot(x='cnt_loans90',y='p_month',hue='label',data=df)"
   ]
  },
  {
   "cell_type": "code",
   "execution_count": null,
   "id": "48a09ccd",
   "metadata": {},
   "outputs": [],
   "source": [
    "sns.scatterplot(x='amnt_loans90',y='p_month',hue='label',data=df)"
   ]
  },
  {
   "cell_type": "code",
   "execution_count": null,
   "id": "ee5c98fe",
   "metadata": {},
   "outputs": [],
   "source": [
    "sns.scatterplot(x='maxamnt_loans90',y='p_month',hue='label',data=df)"
   ]
  },
  {
   "cell_type": "code",
   "execution_count": null,
   "id": "b65e547d",
   "metadata": {},
   "outputs": [],
   "source": [
    "sns.scatterplot(x='payback30',y='p_month',hue='label',data=df)"
   ]
  },
  {
   "cell_type": "code",
   "execution_count": null,
   "id": "9163f3a3",
   "metadata": {},
   "outputs": [],
   "source": [
    "sns.scatterplot(x='payback90',y='p_month',hue='label',data=df)"
   ]
  },
  {
   "cell_type": "code",
   "execution_count": null,
   "id": "2e44743b",
   "metadata": {},
   "outputs": [],
   "source": [
    "sns.scatterplot(x='aon',y='daily_decr90',hue='label',data=df)"
   ]
  },
  {
   "cell_type": "code",
   "execution_count": null,
   "id": "50100685",
   "metadata": {},
   "outputs": [],
   "source": [
    "sns.scatterplot(x='aon',y='rental90',hue='label',data=df)"
   ]
  },
  {
   "cell_type": "code",
   "execution_count": null,
   "id": "7a20830f",
   "metadata": {},
   "outputs": [],
   "source": [
    "sns.scatterplot(x='daily_decr90',y='rental90',hue='label',data=df)"
   ]
  },
  {
   "cell_type": "code",
   "execution_count": null,
   "id": "a60cf183",
   "metadata": {},
   "outputs": [],
   "source": [
    "sns.scatterplot(x='aon',y='last_rech_date_ma',hue='label',data=df)"
   ]
  },
  {
   "cell_type": "code",
   "execution_count": null,
   "id": "c5f2a3d4",
   "metadata": {},
   "outputs": [],
   "source": [
    "sns.scatterplot(x='daily_decr90',y='last_rech_date_ma',hue='label',data=df)"
   ]
  },
  {
   "cell_type": "code",
   "execution_count": null,
   "id": "25118d6d",
   "metadata": {},
   "outputs": [],
   "source": [
    "sns.scatterplot(x='rental90',y='last_rech_date_ma',hue='label',data=df)"
   ]
  },
  {
   "cell_type": "code",
   "execution_count": null,
   "id": "36cfbbdb",
   "metadata": {},
   "outputs": [],
   "source": [
    "sns.scatterplot(x='rental90',y='last_rech_date_da',hue='label',data=df)"
   ]
  },
  {
   "cell_type": "code",
   "execution_count": null,
   "id": "4813fbb0",
   "metadata": {},
   "outputs": [],
   "source": [
    "sns.scatterplot(x='aon',y='last_rech_date_da',hue='label',data=df)"
   ]
  },
  {
   "cell_type": "code",
   "execution_count": null,
   "id": "7a055804",
   "metadata": {},
   "outputs": [],
   "source": [
    "sns.scatterplot(x='daily_decr90',y='last_rech_date_da',hue='label',data=df)"
   ]
  },
  {
   "cell_type": "code",
   "execution_count": null,
   "id": "a813ec1e",
   "metadata": {},
   "outputs": [],
   "source": [
    "sns.scatterplot(x='rental90',y='last_rech_date_da',hue='label',data=df)"
   ]
  },
  {
   "cell_type": "code",
   "execution_count": null,
   "id": "62b1e107",
   "metadata": {},
   "outputs": [],
   "source": [
    "sns.scatterplot(x='last_rech_date_ma',y='last_rech_date_da',hue='label',data=df)"
   ]
  },
  {
   "cell_type": "code",
   "execution_count": null,
   "id": "0b19d259",
   "metadata": {},
   "outputs": [],
   "source": [
    "sns.scatterplot(x='daily_decr90',y='last_rech_amt_ma',hue='label',data=df)"
   ]
  },
  {
   "cell_type": "code",
   "execution_count": null,
   "id": "483e6396",
   "metadata": {},
   "outputs": [],
   "source": [
    "sns.scatterplot(x='rental90',y='last_rech_amt_ma',hue='label',data=df)"
   ]
  },
  {
   "cell_type": "code",
   "execution_count": null,
   "id": "abaa4faa",
   "metadata": {},
   "outputs": [],
   "source": [
    "sns.scatterplot(x='last_rech_date_da',y='last_rech_amt_ma',hue='label',data=df)"
   ]
  },
  {
   "cell_type": "code",
   "execution_count": null,
   "id": "649476fc",
   "metadata": {},
   "outputs": [],
   "source": [
    "sns.scatterplot(x='aon',y='last_rech_amt_ma',hue='label',data=df)"
   ]
  },
  {
   "cell_type": "code",
   "execution_count": null,
   "id": "5275c624",
   "metadata": {},
   "outputs": [],
   "source": [
    "sns.scatterplot(x='aon',y='cnt_ma_rech30',hue='label',data=df)"
   ]
  },
  {
   "cell_type": "code",
   "execution_count": null,
   "id": "7231761b",
   "metadata": {},
   "outputs": [],
   "source": [
    "sns.scatterplot(x='daily_decr90',y='cnt_ma_rech30',hue='label',data=df)"
   ]
  },
  {
   "cell_type": "code",
   "execution_count": null,
   "id": "ca167875",
   "metadata": {},
   "outputs": [],
   "source": [
    "sns.scatterplot(x='rental90',y='cnt_ma_rech30',hue='label',data=df)"
   ]
  },
  {
   "cell_type": "code",
   "execution_count": null,
   "id": "f72dee56",
   "metadata": {},
   "outputs": [],
   "source": [
    "sns.scatterplot(x='last_rech_date_ma',y='cnt_ma_rech30',hue='label',data=df)"
   ]
  },
  {
   "cell_type": "code",
   "execution_count": null,
   "id": "bd62206b",
   "metadata": {},
   "outputs": [],
   "source": [
    "sns.scatterplot(x='last_rech_date_da',y='cnt_ma_rech30',hue='label',data=df)"
   ]
  },
  {
   "cell_type": "code",
   "execution_count": null,
   "id": "4f0d0540",
   "metadata": {},
   "outputs": [],
   "source": [
    "sns.scatterplot(x='last_rech_date_da',y='fr_ma_rech30',hue='label',data=df)"
   ]
  },
  {
   "cell_type": "code",
   "execution_count": null,
   "id": "8bb29aa8",
   "metadata": {},
   "outputs": [],
   "source": [
    "sns.scatterplot(x='last_rech_amt_ma',y='fr_ma_rech30',hue='label',data=df)"
   ]
  },
  {
   "cell_type": "code",
   "execution_count": null,
   "id": "148a8dd1",
   "metadata": {},
   "outputs": [],
   "source": [
    "sns.scatterplot(x='cnt_ma_rech30',y='fr_ma_rech30',hue='label',data=df)"
   ]
  },
  {
   "cell_type": "code",
   "execution_count": null,
   "id": "ffd2ed25",
   "metadata": {},
   "outputs": [],
   "source": [
    "sns.scatterplot(x='last_rech_date_da',y='fr_ma_rech30',hue='label',data=df)"
   ]
  },
  {
   "cell_type": "code",
   "execution_count": null,
   "id": "c516397c",
   "metadata": {},
   "outputs": [],
   "source": [
    "sns.scatterplot(x='rental90',y='fr_ma_rech30',hue='label',data=df)"
   ]
  },
  {
   "cell_type": "code",
   "execution_count": null,
   "id": "91605bac",
   "metadata": {},
   "outputs": [],
   "source": [
    "sns.scatterplot(x='daily_decr90',y='fr_ma_rech30',hue='label',data=df)"
   ]
  },
  {
   "cell_type": "code",
   "execution_count": null,
   "id": "91ad75a4",
   "metadata": {},
   "outputs": [],
   "source": [
    "sns.scatterplot(x='rental90',y='sumamnt_ma_rech30',hue='label',data=df)"
   ]
  },
  {
   "cell_type": "code",
   "execution_count": null,
   "id": "8a6604b6",
   "metadata": {},
   "outputs": [],
   "source": [
    "sns.scatterplot(x='daily_decr90',y='sumamnt_ma_rech30',hue='label',data=df)"
   ]
  },
  {
   "cell_type": "code",
   "execution_count": null,
   "id": "dd2ea637",
   "metadata": {},
   "outputs": [],
   "source": [
    "sns.scatterplot(x='last_rech_amt_ma',y='sumamnt_ma_rech30',hue='label',data=df)"
   ]
  },
  {
   "cell_type": "code",
   "execution_count": null,
   "id": "8bad71f2",
   "metadata": {},
   "outputs": [],
   "source": [
    "sns.scatterplot(x='aon',y='medianamnt_ma_rech30',hue='label',data=df)"
   ]
  },
  {
   "cell_type": "code",
   "execution_count": null,
   "id": "39778aeb",
   "metadata": {},
   "outputs": [],
   "source": [
    "sns.scatterplot(x='last_rech_amt_ma',y='medianamnt_ma_rech30',hue='label',data=df)"
   ]
  },
  {
   "cell_type": "code",
   "execution_count": null,
   "id": "b50a3063",
   "metadata": {},
   "outputs": [],
   "source": [
    "sns.scatterplot(x='aon',y='medianmarechprebal30',hue='label',data=df)"
   ]
  },
  {
   "cell_type": "code",
   "execution_count": null,
   "id": "d0a9b40b",
   "metadata": {},
   "outputs": [],
   "source": [
    "sns.scatterplot(x='daily_decr90',y='medianmarechprebal30',hue='label',data=df)"
   ]
  },
  {
   "cell_type": "code",
   "execution_count": null,
   "id": "a6fd3e97",
   "metadata": {},
   "outputs": [],
   "source": [
    "sns.scatterplot(x='rental90',y='medianmarechprebal30',hue='label',data=df)"
   ]
  },
  {
   "cell_type": "code",
   "execution_count": null,
   "id": "884a5d2d",
   "metadata": {},
   "outputs": [],
   "source": [
    "sns.scatterplot(x='last_rech_date_ma',y='medianmarechprebal30',hue='label',data=df)"
   ]
  },
  {
   "cell_type": "code",
   "execution_count": null,
   "id": "c8a506d7",
   "metadata": {},
   "outputs": [],
   "source": [
    "sns.scatterplot(x='last_rech_amt_ma',y='medianmarechprebal30',hue='label',data=df)"
   ]
  },
  {
   "cell_type": "code",
   "execution_count": null,
   "id": "23965957",
   "metadata": {},
   "outputs": [],
   "source": [
    "sns.scatterplot(x='cnt_ma_rech30',y='medianmarechprebal30',hue='label',data=df)"
   ]
  },
  {
   "cell_type": "code",
   "execution_count": null,
   "id": "db6c5705",
   "metadata": {},
   "outputs": [],
   "source": [
    "sns.scatterplot(x='sumamnt_ma_rech30',y='medianmarechprebal30',hue='label',data=df)"
   ]
  },
  {
   "cell_type": "code",
   "execution_count": null,
   "id": "028145cd",
   "metadata": {},
   "outputs": [],
   "source": [
    "sns.scatterplot(x='daily_decr90',y='cnt_ma_rech90',hue='label',data=df)"
   ]
  },
  {
   "cell_type": "code",
   "execution_count": null,
   "id": "bd9f31e9",
   "metadata": {},
   "outputs": [],
   "source": [
    "sns.scatterplot(x='rental90',y='cnt_ma_rech90',hue='label',data=df)"
   ]
  },
  {
   "cell_type": "code",
   "execution_count": null,
   "id": "a04b3cfe",
   "metadata": {},
   "outputs": [],
   "source": [
    "sns.scatterplot(x='last_rech_date_ma',y='cnt_ma_rech90',hue='label',data=df)"
   ]
  },
  {
   "cell_type": "code",
   "execution_count": null,
   "id": "048a784c",
   "metadata": {},
   "outputs": [],
   "source": [
    "sns.scatterplot(x='last_rech_date_da',y='cnt_ma_rech90',hue='label',data=df)"
   ]
  },
  {
   "cell_type": "code",
   "execution_count": null,
   "id": "c7d07027",
   "metadata": {},
   "outputs": [],
   "source": [
    "sns.scatterplot(x='cnt_ma_rech30',y='cnt_ma_rech90',hue='label',data=df)"
   ]
  },
  {
   "cell_type": "code",
   "execution_count": null,
   "id": "0b081821",
   "metadata": {},
   "outputs": [],
   "source": [
    "sns.scatterplot(x='fr_ma_rech30',y='cnt_ma_rech90',hue='label',data=df)"
   ]
  },
  {
   "cell_type": "code",
   "execution_count": null,
   "id": "1c15a042",
   "metadata": {
    "scrolled": true
   },
   "outputs": [],
   "source": [
    "sns.scatterplot(x='medianamnt_ma_rech30',y='cnt_ma_rech90',hue='label',data=df)"
   ]
  },
  {
   "cell_type": "code",
   "execution_count": null,
   "id": "7405e1fc",
   "metadata": {},
   "outputs": [],
   "source": [
    "sns.scatterplot(x='aon',y='fr_ma_rech90',hue='label',data=df)"
   ]
  },
  {
   "cell_type": "code",
   "execution_count": null,
   "id": "95bef407",
   "metadata": {},
   "outputs": [],
   "source": [
    "sns.scatterplot(x='daily_decr90',y='fr_ma_rech90',hue='label',data=df)"
   ]
  },
  {
   "cell_type": "code",
   "execution_count": null,
   "id": "309602ce",
   "metadata": {},
   "outputs": [],
   "source": [
    "sns.scatterplot(x='rental90',y='fr_ma_rech90',hue='label',data=df)"
   ]
  },
  {
   "cell_type": "code",
   "execution_count": null,
   "id": "f7832476",
   "metadata": {},
   "outputs": [],
   "source": [
    "sns.scatterplot(x='last_rech_date_ma',y='fr_ma_rech90',hue='label',data=df)"
   ]
  },
  {
   "cell_type": "code",
   "execution_count": null,
   "id": "8f3e0bae",
   "metadata": {},
   "outputs": [],
   "source": [
    "sns.scatterplot(x='last_rech_date_da',y='fr_ma_rech90',hue='label',data=df)"
   ]
  },
  {
   "cell_type": "code",
   "execution_count": null,
   "id": "d08b029d",
   "metadata": {},
   "outputs": [],
   "source": [
    "sns.scatterplot(x='last_rech_amt_ma',y='fr_ma_rech90',hue='label',data=df)"
   ]
  },
  {
   "cell_type": "code",
   "execution_count": null,
   "id": "7a48eacd",
   "metadata": {},
   "outputs": [],
   "source": [
    "sns.scatterplot(x='cnt_ma_rech30',y='fr_ma_rech90',hue='label',data=df)"
   ]
  },
  {
   "cell_type": "code",
   "execution_count": null,
   "id": "7342068d",
   "metadata": {},
   "outputs": [],
   "source": [
    "sns.scatterplot(x='fr_ma_rech30',y='fr_ma_rech90',hue='label',data=df)"
   ]
  },
  {
   "cell_type": "code",
   "execution_count": null,
   "id": "4d1c790b",
   "metadata": {},
   "outputs": [],
   "source": [
    "sns.scatterplot(x='aon',y='cnt_da_rech30',hue='label',data=df)"
   ]
  },
  {
   "cell_type": "code",
   "execution_count": null,
   "id": "012b5268",
   "metadata": {},
   "outputs": [],
   "source": [
    "sns.scatterplot(x='daily_decr90',y='cnt_da_rech30',hue='label',data=df)"
   ]
  },
  {
   "cell_type": "code",
   "execution_count": null,
   "id": "5b3a54a0",
   "metadata": {},
   "outputs": [],
   "source": [
    "sns.scatterplot(x='rental90',y='cnt_da_rech30',hue='label',data=df)"
   ]
  },
  {
   "cell_type": "code",
   "execution_count": null,
   "id": "13a89469",
   "metadata": {},
   "outputs": [],
   "source": [
    "sns.scatterplot(x='last_rech_date_ma',y='cnt_da_rech30',hue='label',data=df)"
   ]
  },
  {
   "cell_type": "markdown",
   "id": "f91fa17c",
   "metadata": {},
   "source": [
    "now i check the outliers of each column with the help of box plot"
   ]
  },
  {
   "cell_type": "code",
   "execution_count": null,
   "id": "50c6f0ff",
   "metadata": {},
   "outputs": [],
   "source": [
    "df['aon'].plot.box()"
   ]
  },
  {
   "cell_type": "code",
   "execution_count": null,
   "id": "38fed341",
   "metadata": {},
   "outputs": [],
   "source": [
    "df['daily_decr90'].plot.box()"
   ]
  },
  {
   "cell_type": "code",
   "execution_count": null,
   "id": "560432db",
   "metadata": {},
   "outputs": [],
   "source": [
    "df['rental90'].plot.box()"
   ]
  },
  {
   "cell_type": "code",
   "execution_count": null,
   "id": "0f643a2d",
   "metadata": {},
   "outputs": [],
   "source": [
    "df['last_rech_date_ma'].plot.box()"
   ]
  },
  {
   "cell_type": "code",
   "execution_count": null,
   "id": "57f1db42",
   "metadata": {},
   "outputs": [],
   "source": [
    "df['last_rech_date_da'].plot.box()"
   ]
  },
  {
   "cell_type": "code",
   "execution_count": null,
   "id": "45cd47f7",
   "metadata": {},
   "outputs": [],
   "source": [
    "df['last_rech_amt_ma'].plot.box()"
   ]
  },
  {
   "cell_type": "code",
   "execution_count": null,
   "id": "39a9cf34",
   "metadata": {},
   "outputs": [],
   "source": [
    "df['cnt_ma_rech30'].plot.box()"
   ]
  },
  {
   "cell_type": "code",
   "execution_count": null,
   "id": "36dc0574",
   "metadata": {},
   "outputs": [],
   "source": [
    "df['fr_ma_rech30'].plot.box()"
   ]
  },
  {
   "cell_type": "code",
   "execution_count": null,
   "id": "65393d4c",
   "metadata": {},
   "outputs": [],
   "source": [
    "df['sumamnt_ma_rech30'].plot.box()"
   ]
  },
  {
   "cell_type": "code",
   "execution_count": null,
   "id": "5f40a841",
   "metadata": {},
   "outputs": [],
   "source": [
    "df['medianamnt_ma_rech30'].plot.box()"
   ]
  },
  {
   "cell_type": "code",
   "execution_count": null,
   "id": "53790c53",
   "metadata": {},
   "outputs": [],
   "source": [
    "df['medianmarechprebal30'].plot.box()"
   ]
  },
  {
   "cell_type": "code",
   "execution_count": null,
   "id": "e4f5062b",
   "metadata": {},
   "outputs": [],
   "source": [
    "df['cnt_ma_rech90'].plot.box()"
   ]
  },
  {
   "cell_type": "code",
   "execution_count": null,
   "id": "541d33e3",
   "metadata": {},
   "outputs": [],
   "source": [
    "df['fr_ma_rech90'].plot.box()"
   ]
  },
  {
   "cell_type": "code",
   "execution_count": null,
   "id": "d3212a59",
   "metadata": {},
   "outputs": [],
   "source": [
    "df['sumamnt_ma_rech90'].plot.box()"
   ]
  },
  {
   "cell_type": "code",
   "execution_count": null,
   "id": "455d6c25",
   "metadata": {},
   "outputs": [],
   "source": [
    "df['medianamnt_ma_rech90'].plot.box()"
   ]
  },
  {
   "cell_type": "code",
   "execution_count": null,
   "id": "5e602d12",
   "metadata": {},
   "outputs": [],
   "source": [
    "df['medianmarechprebal90'].plot.box()"
   ]
  },
  {
   "cell_type": "code",
   "execution_count": null,
   "id": "42500c46",
   "metadata": {},
   "outputs": [],
   "source": [
    "df['cnt_da_rech30'].plot.box()"
   ]
  },
  {
   "cell_type": "code",
   "execution_count": null,
   "id": "9971900b",
   "metadata": {},
   "outputs": [],
   "source": [
    "df['fr_da_rech30'].plot.box()"
   ]
  },
  {
   "cell_type": "code",
   "execution_count": null,
   "id": "d320da35",
   "metadata": {},
   "outputs": [],
   "source": [
    "df['cnt_da_rech90'].plot.box()"
   ]
  },
  {
   "cell_type": "code",
   "execution_count": null,
   "id": "fcdca91d",
   "metadata": {},
   "outputs": [],
   "source": [
    "df['fr_da_rech90'].plot.box()"
   ]
  },
  {
   "cell_type": "code",
   "execution_count": null,
   "id": "795b8ecb",
   "metadata": {},
   "outputs": [],
   "source": [
    "df['cnt_loans30'].plot.box()"
   ]
  },
  {
   "cell_type": "code",
   "execution_count": null,
   "id": "68153b85",
   "metadata": {},
   "outputs": [],
   "source": [
    "df['maxamnt_loans30'].plot.box()"
   ]
  },
  {
   "cell_type": "code",
   "execution_count": null,
   "id": "274e8beb",
   "metadata": {},
   "outputs": [],
   "source": [
    "df['medianamnt_loans30'].plot.box()"
   ]
  },
  {
   "cell_type": "code",
   "execution_count": null,
   "id": "4238ab36",
   "metadata": {},
   "outputs": [],
   "source": [
    "df['cnt_loans90'].plot.box()"
   ]
  },
  {
   "cell_type": "code",
   "execution_count": null,
   "id": "78cb6865",
   "metadata": {},
   "outputs": [],
   "source": [
    "df['amnt_loans90'].plot.box()"
   ]
  },
  {
   "cell_type": "code",
   "execution_count": null,
   "id": "6073098d",
   "metadata": {},
   "outputs": [],
   "source": [
    "df['maxamnt_loans90'].plot.box()"
   ]
  },
  {
   "cell_type": "code",
   "execution_count": null,
   "id": "6b4e5add",
   "metadata": {},
   "outputs": [],
   "source": [
    "df['payback30'].plot.box()"
   ]
  },
  {
   "cell_type": "code",
   "execution_count": null,
   "id": "43b4f47d",
   "metadata": {},
   "outputs": [],
   "source": [
    "df['payback90'].plot.box()"
   ]
  },
  {
   "cell_type": "code",
   "execution_count": null,
   "id": "f2034773",
   "metadata": {},
   "outputs": [],
   "source": [
    "df['p_year'].plot.box()"
   ]
  },
  {
   "cell_type": "code",
   "execution_count": null,
   "id": "eb61c461",
   "metadata": {},
   "outputs": [],
   "source": [
    "df['p_month'].plot.box()"
   ]
  },
  {
   "cell_type": "code",
   "execution_count": null,
   "id": "434a6955",
   "metadata": {
    "scrolled": true
   },
   "outputs": [],
   "source": [
    "df['p_day'].plot.box()"
   ]
  },
  {
   "cell_type": "code",
   "execution_count": null,
   "id": "eb68f42f",
   "metadata": {},
   "outputs": [],
   "source": [
    "df.columns"
   ]
  },
  {
   "cell_type": "code",
   "execution_count": null,
   "id": "cc33fee7",
   "metadata": {},
   "outputs": [],
   "source": [
    "df.head()"
   ]
  },
  {
   "cell_type": "code",
   "execution_count": null,
   "id": "782fd1e6",
   "metadata": {},
   "outputs": [],
   "source": [
    "df['p_year']"
   ]
  },
  {
   "cell_type": "code",
   "execution_count": null,
   "id": "cd5f8f5c",
   "metadata": {},
   "outputs": [],
   "source": [
    "df['p_year'].unique()"
   ]
  },
  {
   "cell_type": "code",
   "execution_count": null,
   "id": "8a1dc16a",
   "metadata": {},
   "outputs": [],
   "source": [
    "df[\"p_year\"].nunique()"
   ]
  },
  {
   "cell_type": "code",
   "execution_count": null,
   "id": "54128ac1",
   "metadata": {},
   "outputs": [],
   "source": [
    "df.drop(\"p_year\",axis = 1,inplace =True)"
   ]
  },
  {
   "cell_type": "code",
   "execution_count": null,
   "id": "26fa3712",
   "metadata": {},
   "outputs": [],
   "source": [
    "df.head()"
   ]
  },
  {
   "cell_type": "code",
   "execution_count": null,
   "id": "2dda5f4d",
   "metadata": {},
   "outputs": [],
   "source": [
    "df.columns"
   ]
  },
  {
   "cell_type": "code",
   "execution_count": null,
   "id": "4f95d804",
   "metadata": {},
   "outputs": [],
   "source": [
    "from sklearn.preprocessing import LabelEncoder"
   ]
  },
  {
   "cell_type": "code",
   "execution_count": null,
   "id": "3290bc93",
   "metadata": {},
   "outputs": [],
   "source": [
    "le = LabelEncoder()\n",
    "for i in df.columns:\n",
    "    if df[i].dtypes ==np.number:\n",
    "        df[i] = le.fit_transform(df[i].values.reshape(-1,1))"
   ]
  },
  {
   "cell_type": "code",
   "execution_count": null,
   "id": "00a64222",
   "metadata": {},
   "outputs": [],
   "source": [
    "df"
   ]
  },
  {
   "cell_type": "code",
   "execution_count": null,
   "id": "1b3591ef",
   "metadata": {},
   "outputs": [],
   "source": [
    "from scipy.stats import zscore"
   ]
  },
  {
   "cell_type": "code",
   "execution_count": null,
   "id": "14ee871e",
   "metadata": {},
   "outputs": [],
   "source": [
    "z = np.abs(zscore(df))"
   ]
  },
  {
   "cell_type": "code",
   "execution_count": null,
   "id": "a468c33c",
   "metadata": {},
   "outputs": [],
   "source": [
    "threshold = 3\n",
    "print(np.where(z>3))"
   ]
  },
  {
   "cell_type": "code",
   "execution_count": null,
   "id": "b329c567",
   "metadata": {},
   "outputs": [],
   "source": [
    "df_new=df[(z<3).all(axis=1)]"
   ]
  },
  {
   "cell_type": "code",
   "execution_count": null,
   "id": "099b9025",
   "metadata": {
    "scrolled": true
   },
   "outputs": [],
   "source": [
    "df_new"
   ]
  },
  {
   "cell_type": "code",
   "execution_count": null,
   "id": "9f108311",
   "metadata": {},
   "outputs": [],
   "source": [
    "df_new.columns"
   ]
  },
  {
   "cell_type": "code",
   "execution_count": null,
   "id": "b6726f6b",
   "metadata": {},
   "outputs": [],
   "source": [
    "df_new.head()"
   ]
  },
  {
   "cell_type": "code",
   "execution_count": null,
   "id": "c374401b",
   "metadata": {},
   "outputs": [],
   "source": [
    "df_new.skew()"
   ]
  },
  {
   "cell_type": "code",
   "execution_count": null,
   "id": "277df328",
   "metadata": {},
   "outputs": [],
   "source": [
    "a = df_new.iloc[:,1:]"
   ]
  },
  {
   "cell_type": "code",
   "execution_count": null,
   "id": "56554abe",
   "metadata": {},
   "outputs": [],
   "source": [
    "a"
   ]
  },
  {
   "cell_type": "code",
   "execution_count": null,
   "id": "5a4fcbf3",
   "metadata": {},
   "outputs": [],
   "source": [
    "from sklearn.preprocessing import PowerTransformer"
   ]
  },
  {
   "cell_type": "code",
   "execution_count": null,
   "id": "c2332f26",
   "metadata": {},
   "outputs": [],
   "source": [
    "pt = PowerTransformer(method = 'yeo-johnson')\n",
    "x_power = pt.fit_transform(a)\n",
    "DF = pd.DataFrame(x_power,columns = a.columns)"
   ]
  },
  {
   "cell_type": "code",
   "execution_count": null,
   "id": "8ee6290b",
   "metadata": {},
   "outputs": [],
   "source": [
    "DF"
   ]
  },
  {
   "cell_type": "code",
   "execution_count": null,
   "id": "ba7ec8c2",
   "metadata": {},
   "outputs": [],
   "source": [
    "DF.skew()"
   ]
  },
  {
   "cell_type": "code",
   "execution_count": null,
   "id": "216cf421",
   "metadata": {},
   "outputs": [],
   "source": [
    "x = DF"
   ]
  },
  {
   "cell_type": "code",
   "execution_count": null,
   "id": "45d8d022",
   "metadata": {},
   "outputs": [],
   "source": [
    "x.head()"
   ]
  },
  {
   "cell_type": "code",
   "execution_count": null,
   "id": "f3f3e53e",
   "metadata": {},
   "outputs": [],
   "source": [
    "x.shape"
   ]
  },
  {
   "cell_type": "code",
   "execution_count": null,
   "id": "da2b9033",
   "metadata": {},
   "outputs": [],
   "source": [
    "y = df_new[\"label\"]"
   ]
  },
  {
   "cell_type": "code",
   "execution_count": null,
   "id": "b8d00898",
   "metadata": {},
   "outputs": [],
   "source": [
    "y"
   ]
  },
  {
   "cell_type": "code",
   "execution_count": null,
   "id": "90aa3f43",
   "metadata": {},
   "outputs": [],
   "source": [
    "y.shape"
   ]
  },
  {
   "cell_type": "code",
   "execution_count": null,
   "id": "8c4e0432",
   "metadata": {},
   "outputs": [],
   "source": [
    "y.value_counts()"
   ]
  },
  {
   "cell_type": "code",
   "execution_count": null,
   "id": "3570db23",
   "metadata": {},
   "outputs": [],
   "source": [
    "from imblearn.over_sampling import SMOTE"
   ]
  },
  {
   "cell_type": "code",
   "execution_count": null,
   "id": "9ccbda45",
   "metadata": {},
   "outputs": [],
   "source": [
    "SM = SMOTE()\n",
    "x,y = SM.fit_resample(x, y)"
   ]
  },
  {
   "cell_type": "code",
   "execution_count": null,
   "id": "9d148833",
   "metadata": {},
   "outputs": [],
   "source": [
    "y.value_counts()"
   ]
  },
  {
   "cell_type": "code",
   "execution_count": null,
   "id": "55849f05",
   "metadata": {},
   "outputs": [],
   "source": [
    "from sklearn.model_selection import train_test_split"
   ]
  },
  {
   "cell_type": "code",
   "execution_count": null,
   "id": "34ca94c4",
   "metadata": {},
   "outputs": [],
   "source": [
    "x_train,x_test,y_train,y_test = train_test_split(x,y,test_size=.20,random_state=45)"
   ]
  },
  {
   "cell_type": "code",
   "execution_count": null,
   "id": "054cdde6",
   "metadata": {},
   "outputs": [],
   "source": [
    "x_train.shape"
   ]
  },
  {
   "cell_type": "code",
   "execution_count": null,
   "id": "2ecd7d32",
   "metadata": {},
   "outputs": [],
   "source": [
    "y_train.shape"
   ]
  },
  {
   "cell_type": "code",
   "execution_count": null,
   "id": "016f05af",
   "metadata": {},
   "outputs": [],
   "source": [
    "x_test.shape"
   ]
  },
  {
   "cell_type": "code",
   "execution_count": null,
   "id": "69132021",
   "metadata": {},
   "outputs": [],
   "source": [
    "y_test.shape"
   ]
  },
  {
   "cell_type": "code",
   "execution_count": null,
   "id": "dd849993",
   "metadata": {},
   "outputs": [],
   "source": [
    "import sklearn\n",
    "from sklearn.naive_bayes import GaussianNB\n",
    "from sklearn.svm import SVC\n",
    "from sklearn.tree import DecisionTreeClassifier\n",
    "from sklearn.metrics import accuracy_score,confusion_matrix,classification_report\n",
    "from sklearn.neighbors import KNeighborsClassifier\n",
    "from sklearn.ensemble import RandomForestClassifier\n",
    "from sklearn.model_selection import GridSearchCV"
   ]
  },
  {
   "cell_type": "code",
   "execution_count": null,
   "id": "0cad0fa5",
   "metadata": {},
   "outputs": [],
   "source": [
    "dtc= DecisionTreeClassifier()\n",
    "dtc.fit(x_train,y_train)\n",
    "dtc.score(x_train,y_train)\n",
    "preddtc = dtc.predict(x_test)\n",
    "print(accuracy_score(y_test,preddtc))\n",
    "print(confusion_matrix(y_test,preddtc))\n",
    "print(classification_report(y_test,preddtc))"
   ]
  },
  {
   "cell_type": "code",
   "execution_count": null,
   "id": "6384d431",
   "metadata": {},
   "outputs": [],
   "source": [
    "paramdt = {'criterion':['gini','entropy'],'splitter':['best','random'],\n",
    "            'max_depth': np.arange(1,10)}"
   ]
  },
  {
   "cell_type": "code",
   "execution_count": null,
   "id": "b3937fef",
   "metadata": {},
   "outputs": [],
   "source": [
    "gc = GridSearchCV(DecisionTreeClassifier(),paramdt,cv=5)"
   ]
  },
  {
   "cell_type": "code",
   "execution_count": null,
   "id": "58445da0",
   "metadata": {},
   "outputs": [],
   "source": [
    "gc.fit(x,y)\n",
    "gc.best_params_"
   ]
  },
  {
   "cell_type": "code",
   "execution_count": null,
   "id": "6ebbb0ac",
   "metadata": {},
   "outputs": [],
   "source": [
    "DTC= DecisionTreeClassifier(criterion='gini',splitter='best',max_depth=9)\n",
    "DTC.fit(x_train,y_train)\n",
    "DTC.score(x_train,y_train)\n",
    "predDTC = DTC.predict(x_test)\n",
    "print(accuracy_score(y_test,predDTC))\n",
    "print(confusion_matrix(y_test,predDTC))\n",
    "print(classification_report(y_test,predDTC))"
   ]
  },
  {
   "cell_type": "code",
   "execution_count": null,
   "id": "c30eb625",
   "metadata": {},
   "outputs": [],
   "source": [
    "#svc= SVC()\n",
    "#svc.fit(x_train,y_train)\n",
    "#svc.score(x_train,y_train)\n",
    "#predsvc = svc.predict(x_test)\n",
    "#print(accuracy_score(y_test,predsvc))\n",
    "#print(confusion_matrix(y_test,predsvc))\n",
    "#print(classification_report(y_test,predsvc))"
   ]
  },
  {
   "cell_type": "code",
   "execution_count": null,
   "id": "edd736fd",
   "metadata": {},
   "outputs": [],
   "source": [
    "#paramsv = {'kernel':['linear','poly','rbf'],\n",
    "           #'gamma':['scale','auto'],\n",
    "            #'degree':np.arange(1,10)}"
   ]
  },
  {
   "cell_type": "code",
   "execution_count": null,
   "id": "15f7694d",
   "metadata": {},
   "outputs": [],
   "source": [
    "#gc = GridSearchCV(SVC(),paramsv,cv=5)\n",
    "#gc.fit(x,y)\n",
    "#gc.best_params_"
   ]
  },
  {
   "cell_type": "code",
   "execution_count": null,
   "id": "c518697e",
   "metadata": {},
   "outputs": [],
   "source": [
    "#Svc= SVC(kernel ='',gamma='',degree=)\n",
    "#Svc.fit(x_train,y_train)\n",
    "#Svc.score(x_train,y_train)\n",
    "#predSvc = Svc.predict(x_test)\n",
    "#print(accuracy_score(y_test,predSvc))\n",
    "#print(confusion_matrix(y_test,predSvc))\n",
    "#print(classification_report(y_test,predSvc))"
   ]
  },
  {
   "cell_type": "code",
   "execution_count": null,
   "id": "c4b81681",
   "metadata": {},
   "outputs": [],
   "source": [
    "#knn = KNeighborsClassifier(n_neighbors=5)\n",
    "#knn.fit(x_train,y_train)\n",
    "#knn.score(x_train,y_train)\n",
    "#predknn = knn.predict(x_test)\n",
    "#print(accuracy_score(y_test,predknn))\n",
    "#print(confusion_matrix(y_test,predknn))\n",
    "#print(classification_report(y_test,predknn))"
   ]
  },
  {
   "cell_type": "code",
   "execution_count": null,
   "id": "da96a78a",
   "metadata": {},
   "outputs": [],
   "source": [
    "#paramkn = {'n_neighbors':np.arange(1,10),'weights':['uniform','distance'],'algorithm':['auto','ball_tree','kd_tree']}"
   ]
  },
  {
   "cell_type": "code",
   "execution_count": null,
   "id": "47de8661",
   "metadata": {},
   "outputs": [],
   "source": [
    "#gc = GridSearchCV(KNeighborsClassifier(),paramkn,cv=5)"
   ]
  },
  {
   "cell_type": "code",
   "execution_count": null,
   "id": "7cd3cee9",
   "metadata": {},
   "outputs": [],
   "source": [
    "#gc.fit(x,y)\n",
    "#gc.best_params_"
   ]
  },
  {
   "cell_type": "code",
   "execution_count": null,
   "id": "66dbefe0",
   "metadata": {},
   "outputs": [],
   "source": [
    "#KNn = KNeighborsClassifier(n_neighbors=,weights='',algorithm='')\n",
    "#KNn.fit(x_train,y_train)\n",
    "#KNn.score(x_train,y_train)\n",
    "#predKNn = KNn.predict(x_test)\n",
    "#print(accuracy_score(y_test,predKNn))\n",
    "#print(confusion_matrix(y_test,predKNn))\n",
    "#print(classification_report(y_test,predKNn))"
   ]
  },
  {
   "cell_type": "code",
   "execution_count": null,
   "id": "456603c7",
   "metadata": {},
   "outputs": [],
   "source": [
    "#rfc = RandomForestClassifier()\n",
    "#rfc.fit(x_train, y_train)\n",
    "#rfc.score(x_test, y_test)\n",
    "#predrfc = rfc.predict(x_test)\n",
    "#print(accuracy_score(y_test,predrfc))\n",
    "#print(confusion_matrix(y_test,predrfc))\n",
    "#print(classification_report(y_test,predrfc))"
   ]
  },
  {
   "cell_type": "code",
   "execution_count": null,
   "id": "f8fac68f",
   "metadata": {},
   "outputs": [],
   "source": [
    "#paramrf={'n_estimators':np.arange(1,10),'criterion':['gini','entropy'],\n",
    "          #'max_depth':np.arange(1,10)}"
   ]
  },
  {
   "cell_type": "code",
   "execution_count": null,
   "id": "18f33e57",
   "metadata": {},
   "outputs": [],
   "source": [
    "#gc = GridSearchCV(RandomForestClassifier(),paramrf,cv=5)"
   ]
  },
  {
   "cell_type": "code",
   "execution_count": null,
   "id": "8cb052e0",
   "metadata": {},
   "outputs": [],
   "source": [
    "#gc.fit(x,y)\n",
    "#gc.best_params_"
   ]
  },
  {
   "cell_type": "code",
   "execution_count": null,
   "id": "3509df40",
   "metadata": {},
   "outputs": [],
   "source": [
    "#Rfc = RandomForestClassifier(criterion='',n_estimators=,max_depth=)\n",
    "#Rfc.fit(x_train, y_train)\n",
    "#Rfc.score(x_test, y_test)\n",
    "#predRfc = Rfc.predict(x_test)\n",
    "#print(accuracy_score(y_test,predRfc))\n",
    "#print(confusion_matrix(y_test,predRfc))\n",
    "#print(classification_report(y_test,predRfc))"
   ]
  },
  {
   "cell_type": "code",
   "execution_count": null,
   "id": "939ba458",
   "metadata": {},
   "outputs": [],
   "source": [
    "from sklearn.model_selection import cross_val_score"
   ]
  },
  {
   "cell_type": "code",
   "execution_count": null,
   "id": "3ec5b7fe",
   "metadata": {},
   "outputs": [],
   "source": [
    "#print(cross_val_score(svc,x,y,cv=5).mean())"
   ]
  },
  {
   "cell_type": "code",
   "execution_count": null,
   "id": "4a65a728",
   "metadata": {},
   "outputs": [],
   "source": [
    "#print(cross_val_score(KNn,x,y,cv=5).mean())"
   ]
  },
  {
   "cell_type": "code",
   "execution_count": null,
   "id": "6205a94e",
   "metadata": {},
   "outputs": [],
   "source": [
    "#print(cross_val_score(Rfc,x,y,cv=5).mean())"
   ]
  },
  {
   "cell_type": "markdown",
   "id": "6aab52b7",
   "metadata": {},
   "source": [
    "# i am making a comment off all the model except dtc beacuse it is not showing me the output my notebook is in hanging position "
   ]
  },
  {
   "cell_type": "code",
   "execution_count": null,
   "id": "68887ab1",
   "metadata": {},
   "outputs": [],
   "source": [
    "print(cross_val_score(DTC,x,y,cv=5).mean())"
   ]
  },
  {
   "cell_type": "code",
   "execution_count": null,
   "id": "9940c317",
   "metadata": {},
   "outputs": [],
   "source": [
    "import pickle "
   ]
  },
  {
   "cell_type": "code",
   "execution_count": null,
   "id": "1dcc3b03",
   "metadata": {},
   "outputs": [],
   "source": [
    "filename = 'Microcredit_defaulter'\n",
    "pickle.dump(DTC,open(filename,'wb'))"
   ]
  },
  {
   "cell_type": "code",
   "execution_count": null,
   "id": "363f11e1",
   "metadata": {},
   "outputs": [],
   "source": []
  }
 ],
 "metadata": {
  "kernelspec": {
   "display_name": "Python 3",
   "language": "python",
   "name": "python3"
  }
 },
 "nbformat": 4,
 "nbformat_minor": 5
}
